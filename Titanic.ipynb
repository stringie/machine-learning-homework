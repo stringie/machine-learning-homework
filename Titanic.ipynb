{
 "cells": [
  {
   "cell_type": "code",
   "execution_count": 15,
   "metadata": {},
   "outputs": [],
   "source": [
    "import pandas as pd\n",
    "import numpy as np\n",
    "from sklearn.model_selection import train_test_split\n",
    "from sklearn.ensemble import RandomForestClassifier"
   ]
  },
  {
   "cell_type": "markdown",
   "metadata": {},
   "source": [
    "Целта на задачата беше да подобрим резултата от 0.82 на тест, направен на лекции."
   ]
  },
  {
   "cell_type": "code",
   "execution_count": 16,
   "metadata": {},
   "outputs": [],
   "source": [
    "#функцийка за дропване на колони, исках просто да пробвам нещо\n",
    "def dropper(set, *args):\n",
    "    for arg in args:\n",
    "        set = set.drop(arg, axis=1)\n",
    "    return set\n",
    "\n",
    "train = pd.read_csv('/home/string/dev/machine-learning/supervised-learning/train.csv', index_col='PassengerId')\n",
    "train = dropper(train, 'Cabin', 'Ticket')"
   ]
  },
  {
   "cell_type": "markdown",
   "metadata": {},
   "source": [
    "Оправяме набързо колоната Sex и попълваме празните клетки във Embarked."
   ]
  },
  {
   "cell_type": "code",
   "execution_count": 17,
   "metadata": {},
   "outputs": [],
   "source": [
    "train['Sex'] = train['Sex'].apply(lambda x: 0 if x == 'male' else 1)\n",
    "train['Embarked'] = train.Embarked.fillna('S')"
   ]
  },
  {
   "cell_type": "markdown",
   "metadata": {},
   "source": [
    "После extract-ваме титлите от имената на хората и създаваме нова колона Title. След това полълваме празните клетки в Age със средната стойност на съответната титлова група."
   ]
  },
  {
   "cell_type": "code",
   "execution_count": 18,
   "metadata": {},
   "outputs": [],
   "source": [
    "train['Title'] = train.Name.str.extract('([A-Za-z]+)\\.', expand=False)\n",
    "train.loc[train.Title == 'Mlle', 'Title'] = 'Miss'\n",
    "train.loc[train.Title == 'Mme', 'Title'] = 'Mrs'\n",
    "train.loc[train.Title == 'Ms', 'Title'] = 'Miss'\n",
    "rare_titles = ['Dr', 'Rev', 'Col', 'Major', 'Countess', 'Don', 'Jonkheer', 'Capt', 'Lady', 'Sir']\n",
    "train.Title = train.Title.replace(rare_titles, 'Rare')\n",
    "\n",
    "age_by_title = train.groupby('Title').Age.mean()\n",
    "\n",
    "train.loc[train.Age.isnull() & (train.Title == 'Mr'), 'Age'] = age_by_title['Mr']\n",
    "train.loc[train.Age.isnull() & (train.Title == 'Mrs'), 'Age'] = age_by_title['Mrs']\n",
    "train.loc[train.Age.isnull() & (train.Title == 'Miss'), 'Age'] = age_by_title['Miss']\n",
    "train.loc[train.Age.isnull() & (train.Title == 'Master'), 'Age'] = age_by_title['Master']\n",
    "train.loc[train.Age.isnull() & (train.Title == 'Rare'), 'Age'] = age_by_title['Rare']"
   ]
  },
  {
   "cell_type": "markdown",
   "metadata": {},
   "source": [
    "Encode-ваме Титлите и градовете на хората."
   ]
  },
  {
   "cell_type": "code",
   "execution_count": 19,
   "metadata": {},
   "outputs": [],
   "source": [
    "from sklearn.preprocessing import LabelEncoder\n",
    "titleEncoder = LabelEncoder()\n",
    "titles = ['Mr', 'Miss', 'Mrs', 'Rare', 'Master']\n",
    "titleEncoder.fit(titles)\n",
    "\n",
    "train['Title'] = titleEncoder.transform(train.Title)"
   ]
  },
  {
   "cell_type": "code",
   "execution_count": 20,
   "metadata": {},
   "outputs": [],
   "source": [
    "embarkEncoder = LabelEncoder()\n",
    "embark = ['Q', 'S', 'C']\n",
    "embarkEncoder.fit(embark)\n",
    "\n",
    "train['Embarked'] = embarkEncoder.transform(train.Embarked)"
   ]
  },
  {
   "cell_type": "markdown",
   "metadata": {},
   "source": [
    "Създаваме FamilySize колона и премахваме Parch и SibSp."
   ]
  },
  {
   "cell_type": "code",
   "execution_count": 21,
   "metadata": {},
   "outputs": [],
   "source": [
    "train['FamilySize'] = train.Parch + train.SibSp + 1\n",
    "train = dropper(train, 'Parch', 'SibSp')"
   ]
  },
  {
   "cell_type": "code",
   "execution_count": 9,
   "metadata": {},
   "outputs": [],
   "source": [
    "X = dropper(train, 'Name', 'Survived')\n",
    "y = train['Survived']\n",
    "\n",
    "x_train, x_test, y_train, y_test = train_test_split(X, y, stratify=y, random_state=0)"
   ]
  },
  {
   "cell_type": "markdown",
   "metadata": {},
   "source": [
    "Накрая тренираме и .... малко подобрение, но не можах да намеря начин за по-добър резултат. Каквото друго пробвах беше под този."
   ]
  },
  {
   "cell_type": "code",
   "execution_count": 24,
   "metadata": {},
   "outputs": [
    {
     "data": {
      "text/plain": [
       "0.85201793721973096"
      ]
     },
     "execution_count": 24,
     "metadata": {},
     "output_type": "execute_result"
    }
   ],
   "source": [
    "from sklearn.tree import DecisionTreeClassifier\n",
    "model = DecisionTreeClassifier(max_depth=9, random_state=11)\n",
    "\n",
    "model.fit(x_train, y_train)\n",
    "model.score(x_test, y_test)"
   ]
  },
  {
   "cell_type": "code",
   "execution_count": null,
   "metadata": {},
   "outputs": [],
   "source": []
  }
 ],
 "metadata": {
  "kernelspec": {
   "display_name": "Python 3",
   "language": "python",
   "name": "python3"
  },
  "language_info": {
   "codemirror_mode": {
    "name": "ipython",
    "version": 3
   },
   "file_extension": ".py",
   "mimetype": "text/x-python",
   "name": "python",
   "nbconvert_exporter": "python",
   "pygments_lexer": "ipython3",
   "version": "3.6.2"
  }
 },
 "nbformat": 4,
 "nbformat_minor": 2
}
